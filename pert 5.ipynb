{
 "cells": [
  {
   "cell_type": "code",
   "execution_count": 82,
   "metadata": {},
   "outputs": [
    {
     "name": "stdout",
     "output_type": "stream",
     "text": [
      "['Pada hari minggu kuturut ayah ke kota', ' Naik Delman istimewa kududuk di muka', ' Duduk disamping pak kusir yang sedang bekerja']\n",
      " Duduk disamping pak kusir yang sedang bekerja\n"
     ]
    }
   ],
   "source": [
    "paragraf = \"Pada hari minggu kuturut ayah ke kota. Naik Delman istimewa kududuk di muka. Duduk disamping pak kusir yang sedang bekerja\"\n",
    "kalimat = paragraf.split(\".\")\n",
    "print(kalimat)\n",
    "print(kalimat[2])"
   ]
  },
  {
   "cell_type": "code",
   "execution_count": 80,
   "metadata": {},
   "outputs": [
    {
     "name": "stdout",
     "output_type": "stream",
     "text": [
      "{'Nama': 'Budi', 'Umur': 7, 'JenisKelamin': 'Laki-Laki'}\n",
      "{'Nama': 'Budi', 'Umur': 7, 'JenisKelamin': 'Laki-Laki', 'Nilai': [30, 40, 50, 60, 70, 80, 90]}\n",
      "============\n",
      "Nama Budi\n",
      "Umur 7\n",
      "JenisKelamin Laki-Laki\n",
      "Nilai [30, 40, 50, 60, 70, 80, 90]\n",
      "============\n",
      "Nama Ani\n",
      "Umur 8\n",
      "JenisKelamin Perempuan\n"
     ]
    }
   ],
   "source": [
    "siswa = {'Nama': 'Budi', 'Umur': 7, 'JenisKelamin': 'Laki-Laki'}\n",
    "siswa2 = {'Nama': 'Ani', 'Umur': 8, 'JenisKelamin': 'Perempuan'}\n",
    "#print(siswa)\n",
    "#print(siswa['Nama'])\n",
    "#print(siswa['Umur'])\n",
    "#print(siswa['JenisKelamin'])\n",
    "#siswa['Alamat'] = \"Jl. Kaliurang KM 5\"\n",
    "#print(siswa)\n",
    "\n",
    "#for k,v in siswa.items():\n",
    "#    print(k,v)\n",
    "#for k in siswa.items():\n",
    "#    print(k)\n",
    "\n",
    "list_siswa = []\n",
    "list_siswa.append(siswa)\n",
    "list_siswa.append(siswa2)\n",
    "print(list_siswa[0])\n",
    "\n",
    "siswa[\"Nilai\"] = nilai\n",
    "print(siswa)\n",
    "\n",
    "# for n in siswa[\"Nilai\"]:\n",
    "#     print(n)\n",
    "for l in list_siswa:\n",
    "    print(\"============\")\n",
    "    for k,v in l.items():\n",
    "        print(k,v)"
   ]
  },
  {
   "cell_type": "code",
   "execution_count": 54,
   "metadata": {},
   "outputs": [
    {
     "name": "stdout",
     "output_type": "stream",
     "text": [
      "((12, 13), (14, 15))\n",
      "2010\n"
     ]
    }
   ],
   "source": [
    "bulan = (\"Januari\",\"Februari\",\"Maret\",\"April\",\"Mei\",\"Juni\",\"Juli\",\"Agustus\",\"September\",\"Oktober\",\"November\",\"Desember\")\n",
    "tahun=(2010,2011,2012,2013)\n",
    "\n",
    "tgl=((12,13),(14,15))\n",
    "\n",
    "print(tahun[0])"
   ]
  },
  {
   "cell_type": "code",
   "execution_count": 44,
   "metadata": {},
   "outputs": [
    {
     "name": "stdout",
     "output_type": "stream",
     "text": [
      "[30, 40, 50, 60, 70, 80, 90]\n",
      "0 30\n",
      "1 40\n",
      "2 50\n",
      "3 60\n",
      "4 70\n",
      "5 80\n",
      "6 90\n",
      "60.0 420 7\n",
      "genap: 66\n",
      "genap: 88\n",
      "genap: 54\n",
      "[(30, 10), (30, 20), (40, 10), (40, 20), (50, 10), (50, 20), (60, 10), (60, 20), (70, 10), (70, 20), (80, 10), (80, 20), (90, 10), (90, 20)]\n"
     ]
    }
   ],
   "source": [
    "nilai=[30,40,50,60,70,80,90]\n",
    "print(nilai)\n",
    "\n",
    "for i,n in enumerate(nilai):\n",
    "    print(i,n)\n",
    "\n",
    "total = 0\n",
    "for n in nilai:\n",
    "    total = total + n\n",
    "    \n",
    "rata = total / len(nilai)\n",
    "print(rata, total, len(nilai))\n",
    "\n",
    "tugas=[66,77,88,99,55,54]\n",
    "for i in tugas:\n",
    "    if i%2==0:\n",
    "        print('genap:',i)\n",
    "\n",
    "#x=[(x1,x2) for x1 in range(30,100,10) for x2 in range(10,30,10)]\n",
    "#print(x)"
   ]
  }
 ],
 "metadata": {
  "kernelspec": {
   "display_name": "Python 3",
   "language": "python",
   "name": "python3"
  },
  "language_info": {
   "codemirror_mode": {
    "name": "ipython",
    "version": 3
   },
   "file_extension": ".py",
   "mimetype": "text/x-python",
   "name": "python",
   "nbconvert_exporter": "python",
   "pygments_lexer": "ipython3",
   "version": "3.7.0"
  }
 },
 "nbformat": 4,
 "nbformat_minor": 2
}
