{
 "cells": [
  {
   "cell_type": "markdown",
   "metadata": {},
   "source": [
    "## Deskripsi Data \n",
    "Data yang dipakai berikut ini ialah data mengenai jumlah kunjungan wisatawan mancanegara yang masuk melalui pelabuhan ataupun bandara (laut/darat) ternama di beberapa wilayah di Indonesia beserta persentase pertumbuhannya. \n",
    "Untuk dataset yang saya gunakan -> jumlah kunjungan dan pertumbuhan wisatawan mancanegara pada tahun 2009-2010\n",
    "\n",
    "Penjelasan mengenai variabel pada Dataset ini:\n",
    "pintu_masuk: pintu masuk wisatawan ke Indonesia\n",
    "bulan\n",
    "kunjungan_tahun_2009 : kunjungan wisman tahun 2009\n",
    "kunjungan_tahun_2010 : kunjungan wisman tahun 2010\n",
    "pertumbuhan : pertumbuhan wisman (dalam persentase)\n",
    "\n",
    "\n",
    "(sumber data dari: http://data.jakarta.go.id/dataset/jumlah-kunjungan-dan-pertumbuhan-wisman-di-dki-jakarta)"
   ]
  },
  {
   "cell_type": "code",
   "execution_count": 2,
   "metadata": {},
   "outputs": [],
   "source": [
    "import pandas as pd\n",
    "\n",
    "data_wisata_20092010 = pd.read_csv('Pertumbuhan-Jumlah-Wisatawan-Mancanegara-Ke-Indonesia.csv', delimiter = ',', encoding = \"utf-8\")"
   ]
  },
  {
   "cell_type": "markdown",
   "metadata": {},
   "source": [
    "#### total baris & kolom data"
   ]
  },
  {
   "cell_type": "code",
   "execution_count": 3,
   "metadata": {},
   "outputs": [
    {
     "data": {
      "text/plain": [
       "pintu_masuk    240\n",
       "bulan          240\n",
       "tahun_2009     240\n",
       "tahun_2010     240\n",
       "growth         240\n",
       "dtype: int64"
      ]
     },
     "execution_count": 3,
     "metadata": {},
     "output_type": "execute_result"
    }
   ],
   "source": [
    "data_wisata_20092010.count()"
   ]
  },
  {
   "cell_type": "code",
   "execution_count": 4,
   "metadata": {},
   "outputs": [
    {
     "data": {
      "text/plain": [
       "Index(['pintu_masuk', 'bulan', 'tahun_2009', 'tahun_2010', 'growth'], dtype='object')"
      ]
     },
     "execution_count": 4,
     "metadata": {},
     "output_type": "execute_result"
    }
   ],
   "source": [
    "data_wisata_20092010.columns"
   ]
  },
  {
   "cell_type": "markdown",
   "metadata": {},
   "source": [
    "#### tampilan data\n",
    "diperlihatkan datanya 10 baris agar tidak terlalu panjang ke bawah"
   ]
  },
  {
   "cell_type": "code",
   "execution_count": 5,
   "metadata": {},
   "outputs": [
    {
     "data": {
      "text/html": [
       "<div>\n",
       "<style scoped>\n",
       "    .dataframe tbody tr th:only-of-type {\n",
       "        vertical-align: middle;\n",
       "    }\n",
       "\n",
       "    .dataframe tbody tr th {\n",
       "        vertical-align: top;\n",
       "    }\n",
       "\n",
       "    .dataframe thead th {\n",
       "        text-align: right;\n",
       "    }\n",
       "</style>\n",
       "<table border=\"1\" class=\"dataframe\">\n",
       "  <thead>\n",
       "    <tr style=\"text-align: right;\">\n",
       "      <th></th>\n",
       "      <th>pintu_masuk</th>\n",
       "      <th>bulan</th>\n",
       "      <th>tahun_2009</th>\n",
       "      <th>tahun_2010</th>\n",
       "      <th>growth</th>\n",
       "    </tr>\n",
       "  </thead>\n",
       "  <tbody>\n",
       "    <tr>\n",
       "      <th>78</th>\n",
       "      <td>Entikong, Pontianak</td>\n",
       "      <td>Juli</td>\n",
       "      <td>1451</td>\n",
       "      <td>2134</td>\n",
       "      <td>47.07</td>\n",
       "    </tr>\n",
       "    <tr>\n",
       "      <th>176</th>\n",
       "      <td>Bandar Udara Sultan Syarif Kasim II / Simpang ...</td>\n",
       "      <td>September</td>\n",
       "      <td>1796</td>\n",
       "      <td>1508</td>\n",
       "      <td>-16.04</td>\n",
       "    </tr>\n",
       "    <tr>\n",
       "      <th>161</th>\n",
       "      <td>Bandar Udara Sultan Aji Muhammad Sulaiman, Sep...</td>\n",
       "      <td>Juni</td>\n",
       "      <td>822</td>\n",
       "      <td>891</td>\n",
       "      <td>8.39</td>\n",
       "    </tr>\n",
       "    <tr>\n",
       "      <th>53</th>\n",
       "      <td>Bandar Udara Sam Ratulangi, Manado</td>\n",
       "      <td>Juni</td>\n",
       "      <td>2393</td>\n",
       "      <td>1590</td>\n",
       "      <td>-33.56</td>\n",
       "    </tr>\n",
       "    <tr>\n",
       "      <th>26</th>\n",
       "      <td>Bandar Udara Polonia, Medan</td>\n",
       "      <td>Maret</td>\n",
       "      <td>13617</td>\n",
       "      <td>14000</td>\n",
       "      <td>2.81</td>\n",
       "    </tr>\n",
       "    <tr>\n",
       "      <th>213</th>\n",
       "      <td>Pelabuhan Tanjung Uban, Kepulauan Riau</td>\n",
       "      <td>Oktober</td>\n",
       "      <td>24265</td>\n",
       "      <td>25435</td>\n",
       "      <td>4.82</td>\n",
       "    </tr>\n",
       "    <tr>\n",
       "      <th>225</th>\n",
       "      <td>Balai Karimun, Kepulauan Riau</td>\n",
       "      <td>Oktober</td>\n",
       "      <td>7429</td>\n",
       "      <td>7707</td>\n",
       "      <td>3.74</td>\n",
       "    </tr>\n",
       "    <tr>\n",
       "      <th>44</th>\n",
       "      <td>Bandar Udara Hang Nadim, Kepulauan Riau</td>\n",
       "      <td>September</td>\n",
       "      <td>66105</td>\n",
       "      <td>74511</td>\n",
       "      <td>12.72</td>\n",
       "    </tr>\n",
       "    <tr>\n",
       "      <th>126</th>\n",
       "      <td>Pelabuhan Tanjung Pinang, Kepulauan Riau</td>\n",
       "      <td>Juli</td>\n",
       "      <td>7159</td>\n",
       "      <td>8091</td>\n",
       "      <td>13.02</td>\n",
       "    </tr>\n",
       "    <tr>\n",
       "      <th>201</th>\n",
       "      <td>Bandar Udara Husein Sastranegara, Bandung</td>\n",
       "      <td>Oktober</td>\n",
       "      <td>5661</td>\n",
       "      <td>9570</td>\n",
       "      <td>69.05</td>\n",
       "    </tr>\n",
       "  </tbody>\n",
       "</table>\n",
       "</div>"
      ],
      "text/plain": [
       "                                           pintu_masuk      bulan tahun_2009  \\\n",
       "78                                 Entikong, Pontianak       Juli       1451   \n",
       "176  Bandar Udara Sultan Syarif Kasim II / Simpang ...  September       1796   \n",
       "161  Bandar Udara Sultan Aji Muhammad Sulaiman, Sep...       Juni        822   \n",
       "53                  Bandar Udara Sam Ratulangi, Manado       Juni       2393   \n",
       "26                         Bandar Udara Polonia, Medan      Maret      13617   \n",
       "213             Pelabuhan Tanjung Uban, Kepulauan Riau    Oktober      24265   \n",
       "225                      Balai Karimun, Kepulauan Riau    Oktober       7429   \n",
       "44             Bandar Udara Hang Nadim, Kepulauan Riau  September      66105   \n",
       "126           Pelabuhan Tanjung Pinang, Kepulauan Riau       Juli       7159   \n",
       "201          Bandar Udara Husein Sastranegara, Bandung    Oktober       5661   \n",
       "\n",
       "    tahun_2010  growth  \n",
       "78        2134   47.07  \n",
       "176       1508  -16.04  \n",
       "161        891    8.39  \n",
       "53        1590  -33.56  \n",
       "26       14000    2.81  \n",
       "213      25435    4.82  \n",
       "225       7707    3.74  \n",
       "44       74511   12.72  \n",
       "126       8091   13.02  \n",
       "201       9570   69.05  "
      ]
     },
     "execution_count": 5,
     "metadata": {},
     "output_type": "execute_result"
    }
   ],
   "source": [
    "data_wisata_20092010.sample(10)"
   ]
  },
  {
   "cell_type": "markdown",
   "metadata": {},
   "source": [
    "#### cleansing data\n",
    "membersihkan data yang mengandung karakter enter dan koma, kemudian melakukan convert ke numeric agar bisa dilakukan perhitungan statistik"
   ]
  },
  {
   "cell_type": "code",
   "execution_count": 6,
   "metadata": {},
   "outputs": [],
   "source": [
    "data_wisata_20092010['tahun_2009']=data_wisata_20092010['tahun_2009'].replace(regex=['\\n',','], value='').astype(int)\n",
    "data_wisata_20092010['tahun_2010']=data_wisata_20092010['tahun_2010'].replace(regex=['\\n',','], value='').astype(int)\n",
    "data_wisata_20092010['growth']=data_wisata_20092010['growth'].replace(regex=[r'\\n'], value='').astype(float)"
   ]
  },
  {
   "cell_type": "markdown",
   "metadata": {},
   "source": [
    "#### hasil cleansing data"
   ]
  },
  {
   "cell_type": "code",
   "execution_count": 7,
   "metadata": {},
   "outputs": [
    {
     "data": {
      "text/html": [
       "<div>\n",
       "<style scoped>\n",
       "    .dataframe tbody tr th:only-of-type {\n",
       "        vertical-align: middle;\n",
       "    }\n",
       "\n",
       "    .dataframe tbody tr th {\n",
       "        vertical-align: top;\n",
       "    }\n",
       "\n",
       "    .dataframe thead th {\n",
       "        text-align: right;\n",
       "    }\n",
       "</style>\n",
       "<table border=\"1\" class=\"dataframe\">\n",
       "  <thead>\n",
       "    <tr style=\"text-align: right;\">\n",
       "      <th></th>\n",
       "      <th>pintu_masuk</th>\n",
       "      <th>bulan</th>\n",
       "      <th>tahun_2009</th>\n",
       "      <th>tahun_2010</th>\n",
       "      <th>growth</th>\n",
       "    </tr>\n",
       "  </thead>\n",
       "  <tbody>\n",
       "    <tr>\n",
       "      <th>17</th>\n",
       "      <td>Bandar Udara Ngurah Rai, Denpasar</td>\n",
       "      <td>Juni</td>\n",
       "      <td>200503</td>\n",
       "      <td>224695</td>\n",
       "      <td>12.07</td>\n",
       "    </tr>\n",
       "    <tr>\n",
       "      <th>31</th>\n",
       "      <td>Bandar Udara Polonia, Medan</td>\n",
       "      <td>Agustus</td>\n",
       "      <td>12043</td>\n",
       "      <td>11447</td>\n",
       "      <td>-4.95</td>\n",
       "    </tr>\n",
       "    <tr>\n",
       "      <th>40</th>\n",
       "      <td>Bandar Udara Hang Nadim, Kepulauan Riau</td>\n",
       "      <td>Mei</td>\n",
       "      <td>79969</td>\n",
       "      <td>84617</td>\n",
       "      <td>5.81</td>\n",
       "    </tr>\n",
       "    <tr>\n",
       "      <th>219</th>\n",
       "      <td>Balai Karimun, Kepulauan Riau</td>\n",
       "      <td>April</td>\n",
       "      <td>8906</td>\n",
       "      <td>8180</td>\n",
       "      <td>-8.15</td>\n",
       "    </tr>\n",
       "    <tr>\n",
       "      <th>55</th>\n",
       "      <td>Bandar Udara Sam Ratulangi, Manado</td>\n",
       "      <td>Agustus</td>\n",
       "      <td>3559</td>\n",
       "      <td>1689</td>\n",
       "      <td>-52.54</td>\n",
       "    </tr>\n",
       "    <tr>\n",
       "      <th>171</th>\n",
       "      <td>Bandar Udara Sultan Syarif Kasim II / Simpang ...</td>\n",
       "      <td>April</td>\n",
       "      <td>1265</td>\n",
       "      <td>1234</td>\n",
       "      <td>-2.45</td>\n",
       "    </tr>\n",
       "    <tr>\n",
       "      <th>35</th>\n",
       "      <td>Bandar Udara Polonia, Medan</td>\n",
       "      <td>Desember</td>\n",
       "      <td>15983</td>\n",
       "      <td>16857</td>\n",
       "      <td>5.47</td>\n",
       "    </tr>\n",
       "    <tr>\n",
       "      <th>168</th>\n",
       "      <td>Bandar Udara Sultan Syarif Kasim II / Simpang ...</td>\n",
       "      <td>Januari</td>\n",
       "      <td>1671</td>\n",
       "      <td>1056</td>\n",
       "      <td>-36.80</td>\n",
       "    </tr>\n",
       "    <tr>\n",
       "      <th>112</th>\n",
       "      <td>Pelabuhan Tanjung Priok, Jakarta</td>\n",
       "      <td>Mei</td>\n",
       "      <td>5567</td>\n",
       "      <td>4720</td>\n",
       "      <td>-15.21</td>\n",
       "    </tr>\n",
       "    <tr>\n",
       "      <th>65</th>\n",
       "      <td>Bandar Udara Juanda, Surabaya</td>\n",
       "      <td>Juni</td>\n",
       "      <td>14879</td>\n",
       "      <td>15008</td>\n",
       "      <td>0.87</td>\n",
       "    </tr>\n",
       "  </tbody>\n",
       "</table>\n",
       "</div>"
      ],
      "text/plain": [
       "                                           pintu_masuk     bulan  tahun_2009  \\\n",
       "17                   Bandar Udara Ngurah Rai, Denpasar      Juni      200503   \n",
       "31                         Bandar Udara Polonia, Medan   Agustus       12043   \n",
       "40             Bandar Udara Hang Nadim, Kepulauan Riau       Mei       79969   \n",
       "219                      Balai Karimun, Kepulauan Riau     April        8906   \n",
       "55                  Bandar Udara Sam Ratulangi, Manado   Agustus        3559   \n",
       "171  Bandar Udara Sultan Syarif Kasim II / Simpang ...     April        1265   \n",
       "35                         Bandar Udara Polonia, Medan  Desember       15983   \n",
       "168  Bandar Udara Sultan Syarif Kasim II / Simpang ...   Januari        1671   \n",
       "112                  Pelabuhan Tanjung Priok, Jakarta        Mei        5567   \n",
       "65                       Bandar Udara Juanda, Surabaya      Juni       14879   \n",
       "\n",
       "     tahun_2010  growth  \n",
       "17       224695   12.07  \n",
       "31        11447   -4.95  \n",
       "40        84617    5.81  \n",
       "219        8180   -8.15  \n",
       "55         1689  -52.54  \n",
       "171        1234   -2.45  \n",
       "35        16857    5.47  \n",
       "168        1056  -36.80  \n",
       "112        4720  -15.21  \n",
       "65        15008    0.87  "
      ]
     },
     "execution_count": 7,
     "metadata": {},
     "output_type": "execute_result"
    }
   ],
   "source": [
    "data_wisata_20092010.sample(10)"
   ]
  },
  {
   "cell_type": "markdown",
   "metadata": {},
   "source": [
    "## Statistik Data"
   ]
  },
  {
   "cell_type": "code",
   "execution_count": 8,
   "metadata": {},
   "outputs": [
    {
     "name": "stdout",
     "output_type": "stream",
     "text": [
      "Total kunjungan wisatawan mancanegara di tahun 2009: 6473408 wisatawan\n",
      "Total kunjungan wisatawan mancanegara di tahun 2010: 6563343 wisatawan\n"
     ]
    }
   ],
   "source": [
    "total_kunjungan_2009=data_wisata_20092010['tahun_2009'].sum()\n",
    "total_kunjungan_2010=data_wisata_20092010['tahun_2010'].sum()\n",
    "print('Total kunjungan wisatawan mancanegara di tahun 2009: ', total_kunjungan_2009, ' wisatawan', sep='')\n",
    "print('Total kunjungan wisatawan mancanegara di tahun 2010: ', total_kunjungan_2010, ' wisatawan', sep='')"
   ]
  },
  {
   "cell_type": "code",
   "execution_count": 9,
   "metadata": {},
   "outputs": [],
   "source": [
    "jmlh_wisatan_2009_min=data_wisata_20092010['tahun_2009'].min()\n",
    "jmlh_wisatan_2009_max=data_wisata_20092010['tahun_2009'].max()\n",
    "jmlh_wisatan_2010_min=data_wisata_20092010['tahun_2010'].min()\n",
    "jmlh_wisatan_2010_max=data_wisata_20092010['tahun_2010'].max()\n",
    "\n",
    "persentase_min_20092010=data_wisata_20092010['growth'].min()\n",
    "persentase_max_20092010=data_wisata_20092010['growth'].max()\n",
    "\n",
    "mean_2009 = data_wisata_20092010['tahun_2009'].mean()\n",
    "med_2009 = data_wisata_20092010['tahun_2009'].median()\n",
    "std_2009 = data_wisata_20092010['tahun_2009'].std()\n",
    "mean_2010 = data_wisata_20092010['tahun_2010'].mean()\n",
    "med_2010 = data_wisata_20092010['tahun_2010'].median()\n",
    "std_2010 = data_wisata_20092010['tahun_2010'].std()"
   ]
  },
  {
   "cell_type": "code",
   "execution_count": 10,
   "metadata": {},
   "outputs": [
    {
     "name": "stdout",
     "output_type": "stream",
     "text": [
      "Kunjungan wisatawan mancanegara paling sedikit (tahun 2009): 0 wisatawan\n",
      "Kunjungan wisatawan mancanegara paling banyak (tahun 2009): 407900 wisatawan\n",
      "Rata-rata kunjungan wisatawan mancanegara tahun 2009: 26973 wisatawan\n",
      "Nilai Median tahun 2009:  5609.0\n",
      "Nilai Simpangan Baku tahun 2009: 54627.52\n"
     ]
    }
   ],
   "source": [
    "print('Kunjungan wisatawan mancanegara paling sedikit (tahun 2009): {} wisatawan'.format(jmlh_wisatan_2009_min), sep='')\n",
    "print('Kunjungan wisatawan mancanegara paling banyak (tahun 2009): {} wisatawan'.format(jmlh_wisatan_2009_max), sep='')\n",
    "print('Rata-rata kunjungan wisatawan mancanegara tahun 2009: %.0f wisatawan' % mean_2009)\n",
    "print('Nilai Median tahun 2009: ',med_2009)\n",
    "print('Nilai Simpangan Baku tahun 2009: %.2f' % std_2009)"
   ]
  },
  {
   "cell_type": "code",
   "execution_count": 11,
   "metadata": {},
   "outputs": [
    {
     "data": {
      "text/html": [
       "<div>\n",
       "<style scoped>\n",
       "    .dataframe tbody tr th:only-of-type {\n",
       "        vertical-align: middle;\n",
       "    }\n",
       "\n",
       "    .dataframe tbody tr th {\n",
       "        vertical-align: top;\n",
       "    }\n",
       "\n",
       "    .dataframe thead th {\n",
       "        text-align: right;\n",
       "    }\n",
       "</style>\n",
       "<table border=\"1\" class=\"dataframe\">\n",
       "  <thead>\n",
       "    <tr style=\"text-align: right;\">\n",
       "      <th></th>\n",
       "      <th>pintu_masuk</th>\n",
       "      <th>bulan</th>\n",
       "      <th>tahun_2009</th>\n",
       "      <th>tahun_2010</th>\n",
       "      <th>growth</th>\n",
       "    </tr>\n",
       "  </thead>\n",
       "  <tbody>\n",
       "    <tr>\n",
       "      <th>11</th>\n",
       "      <td>Bandar Udara Soekarno-Hatta, Jakarta</td>\n",
       "      <td>Desember</td>\n",
       "      <td>0</td>\n",
       "      <td>0</td>\n",
       "      <td>0.0</td>\n",
       "    </tr>\n",
       "  </tbody>\n",
       "</table>\n",
       "</div>"
      ],
      "text/plain": [
       "                             pintu_masuk     bulan  tahun_2009  tahun_2010  \\\n",
       "11  Bandar Udara Soekarno-Hatta, Jakarta  Desember           0           0   \n",
       "\n",
       "    growth  \n",
       "11     0.0  "
      ]
     },
     "execution_count": 11,
     "metadata": {},
     "output_type": "execute_result"
    }
   ],
   "source": [
    "data_wisata_20092010[data_wisata_20092010['tahun_2009']==jmlh_wisatan_2009_min]"
   ]
  },
  {
   "cell_type": "code",
   "execution_count": 12,
   "metadata": {},
   "outputs": [
    {
     "data": {
      "text/html": [
       "<div>\n",
       "<style scoped>\n",
       "    .dataframe tbody tr th:only-of-type {\n",
       "        vertical-align: middle;\n",
       "    }\n",
       "\n",
       "    .dataframe tbody tr th {\n",
       "        vertical-align: top;\n",
       "    }\n",
       "\n",
       "    .dataframe thead th {\n",
       "        text-align: right;\n",
       "    }\n",
       "</style>\n",
       "<table border=\"1\" class=\"dataframe\">\n",
       "  <thead>\n",
       "    <tr style=\"text-align: right;\">\n",
       "      <th></th>\n",
       "      <th>pintu_masuk</th>\n",
       "      <th>bulan</th>\n",
       "      <th>tahun_2009</th>\n",
       "      <th>tahun_2010</th>\n",
       "      <th>growth</th>\n",
       "    </tr>\n",
       "  </thead>\n",
       "  <tbody>\n",
       "    <tr>\n",
       "      <th>10</th>\n",
       "      <td>Bandar Udara Soekarno-Hatta, Jakarta</td>\n",
       "      <td>November</td>\n",
       "      <td>407900</td>\n",
       "      <td>0</td>\n",
       "      <td>0.0</td>\n",
       "    </tr>\n",
       "  </tbody>\n",
       "</table>\n",
       "</div>"
      ],
      "text/plain": [
       "                             pintu_masuk     bulan  tahun_2009  tahun_2010  \\\n",
       "10  Bandar Udara Soekarno-Hatta, Jakarta  November      407900           0   \n",
       "\n",
       "    growth  \n",
       "10     0.0  "
      ]
     },
     "execution_count": 12,
     "metadata": {},
     "output_type": "execute_result"
    }
   ],
   "source": [
    "data_wisata_20092010[data_wisata_20092010['tahun_2009']==jmlh_wisatan_2009_max]"
   ]
  },
  {
   "cell_type": "code",
   "execution_count": 13,
   "metadata": {},
   "outputs": [
    {
     "name": "stdout",
     "output_type": "stream",
     "text": [
      "Kunjungan wisatawan mancanegara paling sedikit (tahun 2010): 0 wisatawan\n",
      "Kunjungan wisatawan mancanegara paling banyak (tahun 2010): 252110 wisatawan\n",
      "Rata-rata kunjungan wisatawan mancanegara tahun 2010: 27347 wisatawan\n",
      "Nilai Median tahun 2010:  5543.5\n",
      "Nilai Simpangan Baku tahun 2010: 54274.77\n"
     ]
    }
   ],
   "source": [
    "print('Kunjungan wisatawan mancanegara paling sedikit (tahun 2010): {} wisatawan'.format(jmlh_wisatan_2010_min), sep='')\n",
    "print('Kunjungan wisatawan mancanegara paling banyak (tahun 2010): {} wisatawan'.format(jmlh_wisatan_2010_max), sep='')\n",
    "print('Rata-rata kunjungan wisatawan mancanegara tahun 2010: %.0f wisatawan' % mean_2010)\n",
    "print('Nilai Median tahun 2010: ',med_2010)\n",
    "print('Nilai Simpangan Baku tahun 2010: %.2f' % std_2010)"
   ]
  },
  {
   "cell_type": "code",
   "execution_count": 14,
   "metadata": {},
   "outputs": [
    {
     "data": {
      "text/html": [
       "<div>\n",
       "<style scoped>\n",
       "    .dataframe tbody tr th:only-of-type {\n",
       "        vertical-align: middle;\n",
       "    }\n",
       "\n",
       "    .dataframe tbody tr th {\n",
       "        vertical-align: top;\n",
       "    }\n",
       "\n",
       "    .dataframe thead th {\n",
       "        text-align: right;\n",
       "    }\n",
       "</style>\n",
       "<table border=\"1\" class=\"dataframe\">\n",
       "  <thead>\n",
       "    <tr style=\"text-align: right;\">\n",
       "      <th></th>\n",
       "      <th>pintu_masuk</th>\n",
       "      <th>bulan</th>\n",
       "      <th>tahun_2009</th>\n",
       "      <th>tahun_2010</th>\n",
       "      <th>growth</th>\n",
       "    </tr>\n",
       "  </thead>\n",
       "  <tbody>\n",
       "    <tr>\n",
       "      <th>9</th>\n",
       "      <td>Bandar Udara Soekarno-Hatta, Jakarta</td>\n",
       "      <td>Oktober</td>\n",
       "      <td>117911</td>\n",
       "      <td>0</td>\n",
       "      <td>0.0</td>\n",
       "    </tr>\n",
       "    <tr>\n",
       "      <th>10</th>\n",
       "      <td>Bandar Udara Soekarno-Hatta, Jakarta</td>\n",
       "      <td>November</td>\n",
       "      <td>407900</td>\n",
       "      <td>0</td>\n",
       "      <td>0.0</td>\n",
       "    </tr>\n",
       "    <tr>\n",
       "      <th>11</th>\n",
       "      <td>Bandar Udara Soekarno-Hatta, Jakarta</td>\n",
       "      <td>Desember</td>\n",
       "      <td>0</td>\n",
       "      <td>0</td>\n",
       "      <td>0.0</td>\n",
       "    </tr>\n",
       "  </tbody>\n",
       "</table>\n",
       "</div>"
      ],
      "text/plain": [
       "                             pintu_masuk     bulan  tahun_2009  tahun_2010  \\\n",
       "9   Bandar Udara Soekarno-Hatta, Jakarta   Oktober      117911           0   \n",
       "10  Bandar Udara Soekarno-Hatta, Jakarta  November      407900           0   \n",
       "11  Bandar Udara Soekarno-Hatta, Jakarta  Desember           0           0   \n",
       "\n",
       "    growth  \n",
       "9      0.0  \n",
       "10     0.0  \n",
       "11     0.0  "
      ]
     },
     "execution_count": 14,
     "metadata": {},
     "output_type": "execute_result"
    }
   ],
   "source": [
    "data_wisata_20092010[data_wisata_20092010['tahun_2010']==jmlh_wisatan_2010_min]"
   ]
  },
  {
   "cell_type": "code",
   "execution_count": 15,
   "metadata": {},
   "outputs": [
    {
     "data": {
      "text/html": [
       "<div>\n",
       "<style scoped>\n",
       "    .dataframe tbody tr th:only-of-type {\n",
       "        vertical-align: middle;\n",
       "    }\n",
       "\n",
       "    .dataframe tbody tr th {\n",
       "        vertical-align: top;\n",
       "    }\n",
       "\n",
       "    .dataframe thead th {\n",
       "        text-align: right;\n",
       "    }\n",
       "</style>\n",
       "<table border=\"1\" class=\"dataframe\">\n",
       "  <thead>\n",
       "    <tr style=\"text-align: right;\">\n",
       "      <th></th>\n",
       "      <th>pintu_masuk</th>\n",
       "      <th>bulan</th>\n",
       "      <th>tahun_2009</th>\n",
       "      <th>tahun_2010</th>\n",
       "      <th>growth</th>\n",
       "    </tr>\n",
       "  </thead>\n",
       "  <tbody>\n",
       "    <tr>\n",
       "      <th>18</th>\n",
       "      <td>Bandar Udara Ngurah Rai, Denpasar</td>\n",
       "      <td>Juli</td>\n",
       "      <td>235042</td>\n",
       "      <td>252110</td>\n",
       "      <td>7.26</td>\n",
       "    </tr>\n",
       "  </tbody>\n",
       "</table>\n",
       "</div>"
      ],
      "text/plain": [
       "                          pintu_masuk bulan  tahun_2009  tahun_2010  growth\n",
       "18  Bandar Udara Ngurah Rai, Denpasar  Juli      235042      252110    7.26"
      ]
     },
     "execution_count": 15,
     "metadata": {},
     "output_type": "execute_result"
    }
   ],
   "source": [
    "data_wisata_20092010[data_wisata_20092010['tahun_2010']==jmlh_wisatan_2010_max]"
   ]
  },
  {
   "cell_type": "code",
   "execution_count": 16,
   "metadata": {},
   "outputs": [
    {
     "name": "stdout",
     "output_type": "stream",
     "text": [
      "Persentase growth paling kecil (per 2009-2010): -250.0 %\n",
      "Persentase growth paling besar (per 2009-2010): 210.32 %\n"
     ]
    }
   ],
   "source": [
    "print('Persentase growth paling kecil (per 2009-2010): {} %'.format(persentase_min_20092010), sep='')\n",
    "print('Persentase growth paling besar (per 2009-2010): {} %'.format(persentase_max_20092010), sep='')"
   ]
  },
  {
   "cell_type": "code",
   "execution_count": 17,
   "metadata": {},
   "outputs": [
    {
     "data": {
      "text/html": [
       "<div>\n",
       "<style scoped>\n",
       "    .dataframe tbody tr th:only-of-type {\n",
       "        vertical-align: middle;\n",
       "    }\n",
       "\n",
       "    .dataframe tbody tr th {\n",
       "        vertical-align: top;\n",
       "    }\n",
       "\n",
       "    .dataframe thead th {\n",
       "        text-align: right;\n",
       "    }\n",
       "</style>\n",
       "<table border=\"1\" class=\"dataframe\">\n",
       "  <thead>\n",
       "    <tr style=\"text-align: right;\">\n",
       "      <th></th>\n",
       "      <th>pintu_masuk</th>\n",
       "      <th>bulan</th>\n",
       "      <th>tahun_2009</th>\n",
       "      <th>tahun_2010</th>\n",
       "      <th>growth</th>\n",
       "    </tr>\n",
       "  </thead>\n",
       "  <tbody>\n",
       "    <tr>\n",
       "      <th>36</th>\n",
       "      <td>Bandar Udara Hang Nadim, Kepulauan Riau</td>\n",
       "      <td>Januari</td>\n",
       "      <td>81601</td>\n",
       "      <td>79560</td>\n",
       "      <td>-250.0</td>\n",
       "    </tr>\n",
       "  </tbody>\n",
       "</table>\n",
       "</div>"
      ],
      "text/plain": [
       "                                pintu_masuk    bulan  tahun_2009  tahun_2010  \\\n",
       "36  Bandar Udara Hang Nadim, Kepulauan Riau  Januari       81601       79560   \n",
       "\n",
       "    growth  \n",
       "36  -250.0  "
      ]
     },
     "execution_count": 17,
     "metadata": {},
     "output_type": "execute_result"
    }
   ],
   "source": [
    "data_wisata_20092010[data_wisata_20092010['growth']==persentase_min_20092010]"
   ]
  },
  {
   "cell_type": "code",
   "execution_count": 18,
   "metadata": {},
   "outputs": [
    {
     "data": {
      "text/html": [
       "<div>\n",
       "<style scoped>\n",
       "    .dataframe tbody tr th:only-of-type {\n",
       "        vertical-align: middle;\n",
       "    }\n",
       "\n",
       "    .dataframe tbody tr th {\n",
       "        vertical-align: top;\n",
       "    }\n",
       "\n",
       "    .dataframe thead th {\n",
       "        text-align: right;\n",
       "    }\n",
       "</style>\n",
       "<table border=\"1\" class=\"dataframe\">\n",
       "  <thead>\n",
       "    <tr style=\"text-align: right;\">\n",
       "      <th></th>\n",
       "      <th>pintu_masuk</th>\n",
       "      <th>bulan</th>\n",
       "      <th>tahun_2009</th>\n",
       "      <th>tahun_2010</th>\n",
       "      <th>growth</th>\n",
       "    </tr>\n",
       "  </thead>\n",
       "  <tbody>\n",
       "    <tr>\n",
       "      <th>145</th>\n",
       "      <td>Bandar Udara Sultan Hasanuddin, Makassar</td>\n",
       "      <td>Februari</td>\n",
       "      <td>659</td>\n",
       "      <td>2045</td>\n",
       "      <td>210.32</td>\n",
       "    </tr>\n",
       "  </tbody>\n",
       "</table>\n",
       "</div>"
      ],
      "text/plain": [
       "                                  pintu_masuk     bulan  tahun_2009  \\\n",
       "145  Bandar Udara Sultan Hasanuddin, Makassar  Februari         659   \n",
       "\n",
       "     tahun_2010  growth  \n",
       "145        2045  210.32  "
      ]
     },
     "execution_count": 18,
     "metadata": {},
     "output_type": "execute_result"
    }
   ],
   "source": [
    "data_wisata_20092010[data_wisata_20092010['growth']==persentase_max_20092010]"
   ]
  },
  {
   "cell_type": "markdown",
   "metadata": {},
   "source": [
    "## Visualisasi Sederhana"
   ]
  },
  {
   "cell_type": "code",
   "execution_count": 21,
   "metadata": {},
   "outputs": [
    {
     "data": {
      "text/plain": [
       "Text(0, 0.5, 'Total Kunjungan')"
      ]
     },
     "execution_count": 21,
     "metadata": {},
     "output_type": "execute_result"
    },
    {
     "data": {
      "image/png": "[encoded data removed]",
      "text/plain": [
       "<Figure size 1296x360 with 1 Axes>"
      ]
     },
     "metadata": {
      "needs_background": "light"
     },
     "output_type": "display_data"
    }
   ],
   "source": [
    "ax=data_wisata_20092010.groupby(['pintu_masuk']).sum()[['tahun_2009','tahun_2010']]\n",
    "ax=ax.plot(kind='bar', title='Total Kunjungan Thn 2009-2010',legend=True, fontsize=12,figsize=(18,5))\n",
    "ax.set_xlabel(\"Pintu Masuk\", fontsize=12)\n",
    "ax.set_ylabel(\"Total Kunjungan\", fontsize=12)"
   ]
  },
  {
   "cell_type": "code",
   "execution_count": 20,
   "metadata": {},
   "outputs": [
    {
     "data": {
      "text/plain": [
       "Text(0, 0.5, 'Persentase')"
      ]
     },
     "execution_count": 20,
     "metadata": {},
     "output_type": "execute_result"
    },
    {
     "data": {
      "image/png": "[encoded data removed]",
      "text/plain": [
       "<Figure size 1296x360 with 1 Axes>"
      ]
     },
     "metadata": {
      "needs_background": "light"
     },
     "output_type": "display_data"
    }
   ],
   "source": [
    "ax=data_wisata_20092010.groupby(['pintu_masuk']).mean()[['growth']]\n",
    "ax=ax.plot(kind='bar', title='Persentase Growth Rata-rata Thn 2009-2010',legend=True, fontsize=12,figsize=(18,5))\n",
    "ax.set_xlabel(\"Pintu Masuk\", fontsize=12)\n",
    "ax.set_ylabel(\"Persentase\", fontsize=12)"
   ]
  },
  {
   "cell_type": "markdown",
   "metadata": {},
   "source": [
    "## Narasi Analisis\n",
    "Dari data2 statistik & visualisasi di atas terlihat bahwa selama periode tahun 2009-2010 didapat analisis data seperti berikut ini:\n",
    "1. Jumlah kedatangan wisatawan mancanegara terkecil di tahun 2009 ada di pintu masuk Bandar Soekarno Hatta di bulan Desember, kemungkinan bisa terjadi \"error/missing data\" di bulan desember, hal yang sama pun jg terjadi di tahun 2010, jumlah kedatangan wisatawan terkecil pada bulan Oktober, November, dan Desember di pintu masuk Bandar Soekarno Hatta.\n",
    "2. Jumlah kedatangan wisatawan mancanegara terbesar di tahun 2009 ada di pintu masuk Bandar Soekarno Hatta di bulan November, kemudian di tahun 2010 ada di Bandar Udara Ngurah Rai, Denpasar di bulan Juli\n",
    "3. Meskipun mendapatkan jumlah terkecil di tahun 2009 & 2010, berdasarkan visualisasi grafik jika di jumlahkan total keseluruhan kedatangan wisatawannya di tahun 2009 & 2010 Bandar Soekarno Hatta menempati posisi kedua terbesar kedatangan wisatawan mancanegara. Peringkat pertama di pintu masuk Bandar Udara Ngurah Rai, Denpasar. \n",
    "Dengan Denpasar Bali menempati peringkat pertama tidak bisa dipungkiri bahwa pariwisata di Bali yang menyumbang peranan paling besar dalam menarik minat wisatawan mancanegara untuk datang ke Indonesia. Posisi kedua di Bandar Soekarno Hatta bisa memberitahukan juga bahwa mungkin selain dari pariwisata di Indonesia, besar kemungkinan wisatawan mancanegara datang ke Pusat Ibu Kota Indonesia di Jakarta untuk melakukan bisnis atau pun hal lainnya yang berhubungan dengan coorporate\n",
    "4. Dari visualisasi grafik dan nilai statistik bisa diketahui juga pintu-pintu masuk mana saja yang mengalami kenaikan/penurunan selama periode 2009-2010 dan persentase growth di tiap masing-masing pintu masuk. Persentase kenaikan paling besar selama periode 2009-2010 ada di pintu masuk Bandar Udara Adi Sumarmo, Surakarta dan persentase penurunan paling besar selama periode 2009-2010 ada di pintu masuk Bandar Udara Minangkabau, Padang"
   ]
  }
 ],
 "metadata": {
  "kernelspec": {
   "display_name": "Python 3",
   "language": "python",
   "name": "python3"
  },
  "language_info": {
   "codemirror_mode": {
    "name": "ipython",
    "version": 3
   },
   "file_extension": ".py",
   "mimetype": "text/x-python",
   "name": "python",
   "nbconvert_exporter": "python",
   "pygments_lexer": "ipython3",
   "version": "3.7.0"
  }
 },
 "nbformat": 4,
 "nbformat_minor": 2
}
