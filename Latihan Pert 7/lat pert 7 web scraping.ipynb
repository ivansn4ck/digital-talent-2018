{
 "cells": [
  {
   "cell_type": "code",
   "execution_count": 1,
   "metadata": {},
   "outputs": [],
   "source": [
    "import urllib\n",
    "\n",
    "r = urllib.request.urlopen('http://tekno.kompas.com/').read()  #tambah request\n",
    "# print(type(r))\n",
    "# print(r[1:1000])"
   ]
  },
  {
   "cell_type": "code",
   "execution_count": 2,
   "metadata": {},
   "outputs": [],
   "source": [
    "from bs4 import BeautifulSoup \n",
    "\n",
    "soup = BeautifulSoup(r,\"lxml\")\n",
    "# print(type(soup))\n",
    "# print(soup.prettify()[1:1000])"
   ]
  },
  {
   "cell_type": "code",
   "execution_count": 3,
   "metadata": {},
   "outputs": [],
   "source": [
    "links = soup.find_all('a')\n",
    "# print(len(links))\n",
    "# print(links)"
   ]
  },
  {
   "cell_type": "code",
   "execution_count": 11,
   "metadata": {},
   "outputs": [
    {
     "name": "stdout",
     "output_type": "stream",
     "text": [
      "71\n"
     ]
    }
   ],
   "source": [
    "berita_link = [link for link in links if '/read/' in str(link) and 'javascript:void(0)' not in str(link) \n",
    "               and '#' not in str(link)]\n",
    "print(len(berita_link))\n",
    "\n",
    "# for link in berita_link:\n",
    "#     print('%s: %s'%(link.text.strip(),link[\"href\"]))\n",
    "\n",
    "berita_link2=berita_link[:6]\n",
    "for link in berita_link2:\n",
    "    print('%s: %s'%(link.text.strip(),link[\"href\"]))"
   ]
  },
  {
   "cell_type": "code",
   "execution_count": 5,
   "metadata": {},
   "outputs": [],
   "source": [
    "from PIL import Image\n",
    "# from StringIO import StringIO\n",
    "from io import BytesIO\n",
    "import string\n",
    "import os\n",
    "\n",
    "\n",
    "def getBerita(link):\n",
    "    html = urllib.request.urlopen(link).read()\n",
    "    soup = BeautifulSoup(html, \"lxml\")\n",
    "\n",
    "#     judul = soup.find(\"div\",\"kcm-read-top\").find(\"h2\").text.strip().encode(\"utf8\")\n",
    "#     isi_berita = soup.find(\"div\",\"kcm-read-text\").text.strip().encode(\"utf8\")\n",
    "#     tanggal = soup.find(\"div\",\"kcm-date\").text    \n",
    "    judul = soup.find(\"h1\", \"read__title\").text.strip()\n",
    "    isi_berita = soup.find(\"div\",\"read__content\").text.strip()\n",
    "    tanggal = soup.find(\"div\",\"read__time\").text    \n",
    "    \n",
    "#     tanggal = tanggal.strip().split(',')[1].split('|')[0].strip()\n",
    "#     gambar = soup.find(\"div\",\"kcm-read-top\").find(\"img\")\n",
    "    tanggal = tanggal.strip().split('-')[1].split(',')[0].strip()\n",
    "    gambar = soup.find(\"div\",\"photo\").find(\"img\")    \n",
    "    \n",
    "    r = urllib.request.urlopen(gambar[\"src\"]).read()\n",
    "#     i = Image.open(StringIO(r))\n",
    "    i = Image.open(BytesIO(r))\n",
    "    \n",
    "    exclude = set(string.punctuation)\n",
    "    judul = ''.join(ch for ch in judul if ch not in exclude)\n",
    "    \n",
    "#     nama_file = \"images/\" + judul + \".jpg\"\n",
    "    nama_file = os.getcwd().replace('\\\\','/') +'/' + judul + \".jpg\"\n",
    "    i.save(nama_file,'JPEG')\n",
    "    \n",
    "    return [judul,isi_berita,tanggal]"
   ]
  },
  {
   "cell_type": "code",
   "execution_count": 12,
   "metadata": {},
   "outputs": [],
   "source": [
    "berita = []\n",
    "for link in berita_link2:\n",
    "    print('%s: %s'%(link.text.strip(),link[\"href\"]))\n",
    "    try:\n",
    "        berita.append(getBerita(link[\"href\"]))\n",
    "    except:\n",
    "        pass"
   ]
  },
  {
   "cell_type": "code",
   "execution_count": 14,
   "metadata": {},
   "outputs": [],
   "source": [
    "# print(berita)"
   ]
  },
  {
   "cell_type": "code",
   "execution_count": 10,
   "metadata": {},
   "outputs": [],
   "source": [
    "import csv\n",
    "\n",
    "# with open('data_berita.csv', 'wb') as f:\n",
    "with open('data_berita.csv', 'w') as f:\n",
    "    writer = csv.writer(f)\n",
    "    writer.writerows(berita)"
   ]
  },
  {
   "cell_type": "code",
   "execution_count": null,
   "metadata": {},
   "outputs": [],
   "source": []
  }
 ],
 "metadata": {
  "kernelspec": {
   "display_name": "Python 3",
   "language": "python",
   "name": "python3"
  },
  "language_info": {
   "codemirror_mode": {
    "name": "ipython",
    "version": 3
   },
   "file_extension": ".py",
   "mimetype": "text/x-python",
   "name": "python",
   "nbconvert_exporter": "python",
   "pygments_lexer": "ipython3",
   "version": "3.7.0"
  }
 },
 "nbformat": 4,
 "nbformat_minor": 2
}
