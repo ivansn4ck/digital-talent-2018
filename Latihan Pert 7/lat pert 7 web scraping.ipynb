{
 "cells": [
  {
   "cell_type": "code",
   "execution_count": 1,
   "metadata": {},
   "outputs": [],
   "source": [
    "import urllib\n",
    "\n",
    "r = urllib.request.urlopen('http://tekno.kompas.com/').read()  #tambah request\n",
    "# print(type(r))\n",
    "# print(r[1:1000])"
   ]
  },
  {
   "cell_type": "code",
   "execution_count": 2,
   "metadata": {},
   "outputs": [],
   "source": [
    "from bs4 import BeautifulSoup \n",
    "\n",
    "soup = BeautifulSoup(r,\"lxml\")\n",
    "# print(type(soup))\n",
    "# print(soup.prettify()[1:1000])"
   ]
  },
  {
   "cell_type": "code",
   "execution_count": 3,
   "metadata": {},
   "outputs": [],
   "source": [
    "links = soup.find_all('a')\n",
    "# print(len(links))\n",
    "# print(links)"
   ]
  },
  {
   "cell_type": "code",
   "execution_count": 6,
   "metadata": {},
   "outputs": [
    {
     "name": "stdout",
     "output_type": "stream",
     "text": [
      "71\n",
      ": https://ekonomi.kompas.com/read/2018/07/27/215200426/kompascom-sabet-penghargaan-berita-online-terpercaya-dari-superbrands\n",
      "Headline\n",
      "\n",
      "\n",
      "\n",
      "Ini Spesifikasi dan Harga Xiaomi Mi Mix 3\n",
      "25/10/2018, 20:07 WIB: https://tekno.kompas.com/read/2018/10/25/20070037/ini-spesifikasi-dan-harga-xiaomi-mi-mix-3\n",
      "Headline\n",
      "\n",
      "\n",
      "\n",
      "Xiaomi Mi Mix 3 Resmi Meluncur, Usung Kamera Selfie Tersembunyi dan RAM 10 GB\n",
      "25/10/2018, 14:49 WIB: https://tekno.kompas.com/read/2018/10/25/14494107/xiaomi-mi-mix-3-resmi-meluncur-usung-kamera-selfie-tersembunyi-dan-ram-10-gb\n",
      "Headline\n",
      "\n",
      "\n",
      "\n",
      "Fitur Stiker di WhatsApp Mulai Disebar\n",
      "25/10/2018, 08:03 WIB: https://tekno.kompas.com/read/2018/10/25/08030487/fitur-stiker-di-whatsapp-mulai-disebar\n",
      "Headline\n",
      "\n",
      "\n",
      "\n",
      "Google Permudah Hapus Riwayat Pencarian, Begini Caranya\n",
      "25/10/2018, 11:03 WIB: https://tekno.kompas.com/read/2018/10/25/11030097/google-permudah-hapus-riwayat-pencarian-begini-caranya\n",
      "Ini Spesifikasi dan Harga Xiaomi Mi Mix 3: https://tekno.kompas.com/read/2018/10/25/20070037/ini-spesifikasi-dan-harga-xiaomi-mi-mix-3\n"
     ]
    }
   ],
   "source": [
    "berita_link = [link for link in links if '/read/' in str(link) and 'javascript:void(0)' not in str(link) \n",
    "               and '#' not in str(link)]\n",
    "print(len(berita_link))\n",
    "\n",
    "# for link in berita_link:\n",
    "#     print('%s: %s'%(link.text.strip(),link[\"href\"]))\n",
    "\n",
    "berita_link2=berita_link[:6]\n",
    "for link in berita_link2:\n",
    "    print('%s: %s'%(link.text.strip(),link[\"href\"]))"
   ]
  },
  {
   "cell_type": "code",
   "execution_count": 5,
   "metadata": {},
   "outputs": [],
   "source": [
    "from PIL import Image\n",
    "# from StringIO import StringIO\n",
    "from io import BytesIO\n",
    "import string\n",
    "import os\n",
    "\n",
    "\n",
    "def getBerita(link):\n",
    "    html = urllib.request.urlopen(link).read()\n",
    "    soup = BeautifulSoup(html, \"lxml\")\n",
    "\n",
    "#     judul = soup.find(\"div\",\"kcm-read-top\").find(\"h2\").text.strip().encode(\"utf8\")\n",
    "#     isi_berita = soup.find(\"div\",\"kcm-read-text\").text.strip().encode(\"utf8\")\n",
    "#     tanggal = soup.find(\"div\",\"kcm-date\").text    \n",
    "    judul = soup.find(\"h1\", \"read__title\").text.strip()\n",
    "    isi_berita = soup.find(\"div\",\"read__content\").text.strip()\n",
    "    tanggal = soup.find(\"div\",\"read__time\").text    \n",
    "    \n",
    "#     tanggal = tanggal.strip().split(',')[1].split('|')[0].strip()\n",
    "#     gambar = soup.find(\"div\",\"kcm-read-top\").find(\"img\")\n",
    "    tanggal = tanggal.strip().split('-')[1].split(',')[0].strip()\n",
    "    gambar = soup.find(\"div\",\"photo\").find(\"img\")    \n",
    "    \n",
    "    r = urllib.request.urlopen(gambar[\"src\"]).read()\n",
    "#     i = Image.open(StringIO(r))\n",
    "    i = Image.open(BytesIO(r))\n",
    "    \n",
    "    exclude = set(string.punctuation)\n",
    "    judul = ''.join(ch for ch in judul if ch not in exclude)\n",
    "    \n",
    "#     nama_file = \"images/\" + judul + \".jpg\"\n",
    "    nama_file = os.getcwd().replace('\\\\','/') +'/' + judul + \".jpg\"\n",
    "    i.save(nama_file,'JPEG')\n",
    "    \n",
    "    return [judul,isi_berita,tanggal]"
   ]
  },
  {
   "cell_type": "code",
   "execution_count": 7,
   "metadata": {},
   "outputs": [
    {
     "name": "stdout",
     "output_type": "stream",
     "text": [
      ": https://ekonomi.kompas.com/read/2018/07/27/215200426/kompascom-sabet-penghargaan-berita-online-terpercaya-dari-superbrands\n",
      "Headline\n",
      "\n",
      "\n",
      "\n",
      "Ini Spesifikasi dan Harga Xiaomi Mi Mix 3\n",
      "25/10/2018, 20:07 WIB: https://tekno.kompas.com/read/2018/10/25/20070037/ini-spesifikasi-dan-harga-xiaomi-mi-mix-3\n",
      "Headline\n",
      "\n",
      "\n",
      "\n",
      "Xiaomi Mi Mix 3 Resmi Meluncur, Usung Kamera Selfie Tersembunyi dan RAM 10 GB\n",
      "25/10/2018, 14:49 WIB: https://tekno.kompas.com/read/2018/10/25/14494107/xiaomi-mi-mix-3-resmi-meluncur-usung-kamera-selfie-tersembunyi-dan-ram-10-gb\n",
      "Headline\n",
      "\n",
      "\n",
      "\n",
      "Fitur Stiker di WhatsApp Mulai Disebar\n",
      "25/10/2018, 08:03 WIB: https://tekno.kompas.com/read/2018/10/25/08030487/fitur-stiker-di-whatsapp-mulai-disebar\n",
      "Headline\n",
      "\n",
      "\n",
      "\n",
      "Google Permudah Hapus Riwayat Pencarian, Begini Caranya\n",
      "25/10/2018, 11:03 WIB: https://tekno.kompas.com/read/2018/10/25/11030097/google-permudah-hapus-riwayat-pencarian-begini-caranya\n",
      "Ini Spesifikasi dan Harga Xiaomi Mi Mix 3: https://tekno.kompas.com/read/2018/10/25/20070037/ini-spesifikasi-dan-harga-xiaomi-mi-mix-3\n"
     ]
    }
   ],
   "source": [
    "berita = []\n",
    "for link in berita_link2:\n",
    "    print('%s: %s'%(link.text.strip(),link[\"href\"]))\n",
    "    try:\n",
    "        berita.append(getBerita(link[\"href\"]))\n",
    "    except:\n",
    "        pass"
   ]
  },
  {
   "cell_type": "code",
   "execution_count": 9,
   "metadata": {},
   "outputs": [],
   "source": [
    "# print(berita)"
   ]
  },
  {
   "cell_type": "code",
   "execution_count": 10,
   "metadata": {},
   "outputs": [],
   "source": [
    "import csv\n",
    "\n",
    "# with open('data_berita.csv', 'wb') as f:\n",
    "with open('data_berita.csv', 'w') as f:\n",
    "    writer = csv.writer(f)\n",
    "    writer.writerows(berita)"
   ]
  },
  {
   "cell_type": "code",
   "execution_count": null,
   "metadata": {},
   "outputs": [],
   "source": []
  }
 ],
 "metadata": {
  "kernelspec": {
   "display_name": "Python 3",
   "language": "python",
   "name": "python3"
  },
  "language_info": {
   "codemirror_mode": {
    "name": "ipython",
    "version": 3
   },
   "file_extension": ".py",
   "mimetype": "text/x-python",
   "name": "python",
   "nbconvert_exporter": "python",
   "pygments_lexer": "ipython3",
   "version": "3.7.0"
  }
 },
 "nbformat": 4,
 "nbformat_minor": 2
}
