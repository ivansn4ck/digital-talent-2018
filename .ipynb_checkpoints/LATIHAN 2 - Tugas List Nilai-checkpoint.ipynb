{
 "cells": [
  {
   "cell_type": "markdown",
   "metadata": {},
   "source": [
    "### Diberikan sekumpulan Nilai Random antara 0 sampai dengan 100 sebanyak 250 nilai. Buatlah program untuk melakukan hal berikut:"
   ]
  },
  {
   "cell_type": "code",
   "execution_count": 1,
   "metadata": {},
   "outputs": [
    {
     "name": "stdout",
     "output_type": "stream",
     "text": [
      "[3, 17, 52, 57, 32, 65, 30, 29, 86, 7, 35, 75, 54, 48, 87, 94, 17, 80, 93, 27, 39, 84, 69, 17, 65, 28, 33, 67, 55, 5, 42, 91, 60, 46, 45, 25, 81, 9, 50, 94, 60, 26, 20, 27, 21, 53, 93, 99, 83, 53, 78, 28, 45, 70, 25, 91, 88, 62, 22, 41, 10, 41, 49, 80, 57, 2, 39, 50, 9, 58, 59, 64, 53, 82, 6, 63, 19, 36, 72, 47, 67, 39, 64, 8, 6, 63, 21, 41, 53, 58, 6, 51, 27, 74, 20, 67, 81, 2, 16, 30, 68, 94, 23, 50, 14, 88, 7, 64, 73, 99, 32, 78, 77, 61, 28, 56, 98, 75, 51, 17, 45, 1, 26, 71, 35, 18, 37, 59, 17, 77, 60, 71, 71, 22, 43, 45, 12, 48, 15, 67, 82, 55, 18, 71, 80, 72, 52, 83, 87, 9, 63, 28, 30, 78, 35, 1, 14, 68, 44, 27, 27, 36, 10, 92, 35, 23, 32, 13, 97, 55, 6, 35, 30, 39, 52, 3, 54, 75, 24, 10, 52, 93, 79, 63, 11, 53, 3, 80, 21, 10, 21, 21, 29, 14, 35, 90, 94, 77, 20, 38, 10, 59, 91, 59, 74, 20, 66, 83, 25, 32, 78, 90, 10, 63, 47, 7, 14, 15, 13, 6, 27, 75, 91, 69, 69, 88, 53, 21, 75, 65, 47, 56, 86, 50, 15, 12, 63, 43, 9, 99, 62, 7, 24, 77, 37, 77, 14, 63, 63, 36] \n",
      "\n"
     ]
    }
   ],
   "source": [
    "import random\n",
    "\n",
    "# GENERATE RANDOM\n",
    "nilaiTugas = []\n",
    "for i in range(250):\n",
    "    nilaiTugas.append(random.randrange(1,100,1))\n",
    "\n",
    "print(nilaiTugas,'\\n')\n",
    "\n",
    "# TAMPILKAN:"
   ]
  },
  {
   "cell_type": "markdown",
   "metadata": {},
   "source": [
    "#### 1. Tampilkan Angka Ganjil dari ke 250 nilai tersebut"
   ]
  },
  {
   "cell_type": "code",
   "execution_count": 2,
   "metadata": {},
   "outputs": [
    {
     "name": "stdout",
     "output_type": "stream",
     "text": [
      "1. Nilai Ganjil:  [3, 17, 57, 65, 29, 7, 35, 75, 87, 17, 93, 27, 39, 69, 17, 65, 33, 67, 55, 5, 91, 45, 25, 81, 9, 27, 21, 53, 93, 99, 83, 53, 45, 25, 91, 41, 41, 49, 57, 39, 9, 59, 53, 63, 19, 47, 67, 39, 63, 21, 41, 53, 51, 27, 67, 81, 23, 7, 73, 99, 77, 61, 75, 51, 17, 45, 1, 71, 35, 37, 59, 17, 77, 71, 71, 43, 45, 15, 67, 55, 71, 83, 87, 9, 63, 35, 1, 27, 27, 35, 23, 13, 97, 55, 35, 39, 3, 75, 93, 79, 63, 11, 53, 3, 21, 21, 21, 29, 35, 77, 59, 91, 59, 83, 25, 63, 47, 7, 15, 13, 27, 75, 91, 69, 69, 53, 21, 75, 65, 47, 15, 63, 43, 9, 99, 7, 77, 37, 77, 63, 63]\n"
     ]
    }
   ],
   "source": [
    "# ganjil\n",
    "nilai_ganjil=[]\n",
    "for j in nilaiTugas:\n",
    "    if j%2!=0:\n",
    "        nilai_ganjil.append(j)\n",
    "print('1. Nilai Ganjil: ', nilai_ganjil)"
   ]
  },
  {
   "cell_type": "markdown",
   "metadata": {},
   "source": [
    "#### 2. Tampilkan berapa banyak yang mendapatkan nilai lebih dari 70"
   ]
  },
  {
   "cell_type": "code",
   "execution_count": 3,
   "metadata": {},
   "outputs": [
    {
     "name": "stdout",
     "output_type": "stream",
     "text": [
      "2. Jumlah Nilai yang Lebih Besar 70: 62 angka\n"
     ]
    }
   ],
   "source": [
    "# nilai > 70\n",
    "jumlah_nilai_70=0\n",
    "for k in nilaiTugas:\n",
    "    if k>70:\n",
    "        jumlah_nilai_70+=1\n",
    "print('2. Jumlah Nilai yang Lebih Besar 70: %i angka' % jumlah_nilai_70)"
   ]
  },
  {
   "cell_type": "markdown",
   "metadata": {},
   "source": [
    "#### 3. Tampilkan standar deviasi dari sekumpulan nilai tersebut"
   ]
  },
  {
   "cell_type": "code",
   "execution_count": 8,
   "metadata": {},
   "outputs": [
    {
     "name": "stdout",
     "output_type": "stream",
     "text": [
      "3. Nilai Standar Deviasi:  27.44630394060374\n"
     ]
    }
   ],
   "source": [
    "# standar deviasi\n",
    "import math\n",
    "total_nilai=0\n",
    "nilai_rata2=0\n",
    "jml_elemen_nilai=len(nilaiTugas)\n",
    "nilai_stddev=0\n",
    "\n",
    "for a in nilaiTugas:\n",
    "    total_nilai+=a\n",
    "nilai_rata2=total_nilai/jml_elemen_nilai\n",
    "\n",
    "for b in nilaiTugas:\n",
    "    nilai_stddev=nilai_stddev+(((b-nilai_rata2)**2)/jml_elemen_nilai)\n",
    "    \n",
    "nilai_stddev=math.sqrt(nilai_stddev) #akar dari nilainya\n",
    "print('3. Nilai Standar Deviasi: ', nilai_stddev)"
   ]
  },
  {
   "cell_type": "markdown",
   "metadata": {},
   "source": [
    "#### 4. Tampilkan nilai maksimum dan minimum"
   ]
  },
  {
   "cell_type": "code",
   "execution_count": 13,
   "metadata": {},
   "outputs": [
    {
     "name": "stdout",
     "output_type": "stream",
     "text": [
      "4a. Nilai Maksimum:  99\n",
      "4b. Nilai Minimum:  1\n"
     ]
    }
   ],
   "source": [
    "# maksimum\n",
    "nilai_max=0\n",
    "for c in nilaiTugas:\n",
    "    if nilai_max==0 or nilai_max<c:\n",
    "        nilai_max=c\n",
    "print('4a. Nilai Maksimum: ',nilai_max)\n",
    "\n",
    "# minimum\n",
    "nilai_min=0\n",
    "for d in nilaiTugas:\n",
    "    if nilai_min==0 or nilai_min>d:\n",
    "        nilai_min=d\n",
    "print('4b. Nilai Minimum: ',nilai_min)"
   ]
  },
  {
   "cell_type": "markdown",
   "metadata": {},
   "source": [
    "#### 5. Tampilkan modus dari sekumpulan nilai tersebut"
   ]
  },
  {
   "cell_type": "code",
   "execution_count": 15,
   "metadata": {},
   "outputs": [
    {
     "name": "stdout",
     "output_type": "stream",
     "text": [
      "5. Nilai Modus: 52 32 30 7 94 80 39 28 67 91 45 9 50 20 78 59 63 71 "
     ]
    }
   ],
   "source": [
    "# modus\n",
    "dict1={}\n",
    "#loop1 - import nilai ke dict\n",
    "for i in nilaiTugas:\n",
    "    dict1[i]=0\n",
    "\n",
    "#loop2 - count nilai dictionary-nya\n",
    "for j in nilaiTugas:\n",
    "    if dict1[j] in nilaiTugas:\n",
    "        dict1[j]+=1\n",
    "    else:\n",
    "        dict1[j]=1\n",
    "\n",
    "#cari nilai value max\n",
    "val_max=0\n",
    "for k in dict1.values():\n",
    "    if val_max<k:\n",
    "        val_max=k\n",
    "\n",
    "print('5. Nilai Modus: ', end=\"\")\n",
    "for l,m in dict1.items():\n",
    "    if m==val_max:\n",
    "        print(l, end=\" \")"
   ]
  },
  {
   "cell_type": "code",
   "execution_count": null,
   "metadata": {},
   "outputs": [],
   "source": []
  }
 ],
 "metadata": {
  "kernelspec": {
   "display_name": "Python 3",
   "language": "python",
   "name": "python3"
  },
  "language_info": {
   "codemirror_mode": {
    "name": "ipython",
    "version": 3
   },
   "file_extension": ".py",
   "mimetype": "text/x-python",
   "name": "python",
   "nbconvert_exporter": "python",
   "pygments_lexer": "ipython3",
   "version": "3.7.0"
  }
 },
 "nbformat": 4,
 "nbformat_minor": 2
}
