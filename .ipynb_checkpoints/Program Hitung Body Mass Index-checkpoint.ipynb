{
 "cells": [
  {
   "cell_type": "code",
   "execution_count": 1,
   "metadata": {},
   "outputs": [
    {
     "name": "stdout",
     "output_type": "stream",
     "text": [
      "Berat Badan (dlm Kg): 58\n",
      "Tinggi Badan (dlm Cm): 169\n",
      "Normal (healthy weight) - [Body Mass Index: 20.307 ]\n",
      "\n",
      "--Klasifikasi BMI--\n",
      " Kurang dari 15 - Very severely underweight\n",
      " Diantara 15 dan 16 - Severely underweight\n",
      " Diantara 16 dan 18.5 - Underweight\n",
      " Diantara 18.5 dan 25 - Normal (healthy weight)\n",
      " Diantara 25 dan 30 - Overweight\n",
      " Diantara 30 dan 35 - Moderately obese\n",
      " Diantara 35 dan 40 - Severely obese\n",
      " Over 40 - Very severely obese\n"
     ]
    }
   ],
   "source": [
    "##Program Hitung Body Mass Index(BMI)\n",
    "weigth=eval(input('Berat Badan (dlm Kg): '))\n",
    "height=eval(input('Tinggi Badan (dlm Cm): '))\n",
    "\n",
    "#formula BMI\n",
    "form_rslt=round(weigth/((height**2)/10000),3) #height^2 = cm^2 convert ke m^2 dibagi 10000\n",
    "#validasi output\n",
    "if form_rslt<15: print('Very severely underweight',end='')\n",
    "elif 15<=form_rslt<16: print('Severely underweight',end='')\n",
    "elif 16<=form_rslt<18.5: print('Underweight',end='')\n",
    "elif 18.5<=form_rslt<25: print('Normal (healthy weight)',end='')\n",
    "elif 25<=form_rslt<30: print('Overweight',end='')\n",
    "elif 30<=form_rslt<35: print('Moderately obese',end='')    \n",
    "elif 35<=form_rslt<40: print('Severely obese',end='')  \n",
    "else: print('Very severely obese',end='') \n",
    "print(' - [Body Mass Index:',form_rslt,']\\n')\n",
    "\n",
    "print('--Klasifikasi BMI--\\n', 'Kurang dari 15 - Very severely underweight\\n','Diantara 15 dan 16 - Severely underweight\\n',\n",
    "    'Diantara 16 dan 18.5 - Underweight\\n','Diantara 18.5 dan 25 - Normal (healthy weight)\\n','Diantara 25 dan 30 - Overweight\\n',\n",
    "    'Diantara 30 dan 35 - Moderately obese\\n','Diantara 35 dan 40 - Severely obese\\n','Over 40 - Very severely obese')"
   ]
  },
  {
   "cell_type": "code",
   "execution_count": null,
   "metadata": {},
   "outputs": [],
   "source": []
  }
 ],
 "metadata": {
  "kernelspec": {
   "display_name": "Python 3",
   "language": "python",
   "name": "python3"
  },
  "language_info": {
   "codemirror_mode": {
    "name": "ipython",
    "version": 3
   },
   "file_extension": ".py",
   "mimetype": "text/x-python",
   "name": "python",
   "nbconvert_exporter": "python",
   "pygments_lexer": "ipython3",
   "version": "3.7.0"
  }
 },
 "nbformat": 4,
 "nbformat_minor": 2
}
