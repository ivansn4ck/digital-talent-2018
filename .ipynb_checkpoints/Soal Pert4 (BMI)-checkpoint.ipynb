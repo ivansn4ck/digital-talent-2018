{
 "cells": [
  {
   "cell_type": "markdown",
   "metadata": {},
   "source": [
    "### Latihan Program Sederhana Menghitung Body Mass Index"
   ]
  },
  {
   "cell_type": "code",
   "execution_count": 11,
   "metadata": {},
   "outputs": [
    {
     "name": "stdout",
     "output_type": "stream",
     "text": [
      "Berat Badan (dlm Kg): 58\n",
      "Tinggi Badan (dlm Cm): 169\n",
      "Hasil Perhitungan: Normal (healthy weight) - [Body Mass Index: 20.307 ]\n",
      "\n",
      "--Klasifikasi BMI--\n",
      " Kurang dari 15 - Very severely underweight\n",
      " Diantara 15 dan 16 - Severely underweight\n",
      " Diantara 16 dan 18.5 - Underweight\n",
      " Diantara 18.5 dan 25 - Normal (healthy weight)\n",
      " Diantara 25 dan 30 - Overweight\n",
      " Diantara 30 dan 35 - Moderately obese\n",
      " Diantara 35 dan 40 - Severely obese\n",
      " Over 40 - Very severely obese\n"
     ]
    }
   ],
   "source": [
    "##Program Hitung Body Mass Index(BMI)\n",
    "weigth=eval(input('Berat Badan (dlm Kg): '))\n",
    "height=eval(input('Tinggi Badan (dlm Cm): '))\n",
    "\n",
    "#formula BMI\n",
    "form_rslt=round(weigth/((height/100)**2),3) #height^2 = cm^2 convert ke m^2 \n",
    "#validasi output\n",
    "print('Hasil Perhitungan: ', end='')\n",
    "if form_rslt<15: \n",
    "    print('Very severely underweight',end='')\n",
    "elif 15<=form_rslt<16: \n",
    "    print('Severely underweight',end='')\n",
    "elif 16<=form_rslt<18.5: \n",
    "    print('Underweight',end='')\n",
    "elif 18.5<=form_rslt<25: \n",
    "    print('Normal (healthy weight)',end='')\n",
    "elif 25<=form_rslt<30: \n",
    "    print('Overweight',end='')\n",
    "elif 30<=form_rslt<35: \n",
    "    print('Moderately obese',end='')    \n",
    "elif 35<=form_rslt<40: \n",
    "    print('Severely obese',end='')  \n",
    "else: \n",
    "    print('Very severely obese',end='') \n",
    "print(' - [Body Mass Index:',form_rslt,']\\n')\n",
    "\n",
    "print('--Klasifikasi BMI--\\n', 'Kurang dari 15 - Very severely underweight\\n','Diantara 15 dan 16 - Severely underweight\\n',\n",
    "    'Diantara 16 dan 18.5 - Underweight\\n','Diantara 18.5 dan 25 - Normal (healthy weight)\\n','Diantara 25 dan 30 - Overweight\\n',\n",
    "    'Diantara 30 dan 35 - Moderately obese\\n','Diantara 35 dan 40 - Severely obese\\n','Over 40 - Very severely obese')"
   ]
  },
  {
   "cell_type": "markdown",
   "metadata": {},
   "source": [
    "### Latihan Pertemuan 4\n",
    "Pada keluaran buku terbaru, Harry Potter harga buku adalah Rp 100.000, tetapi toko buku mendapatkan diskon 40%. Pengiriman biaya Rp 9.000 untuk salinan pertama dan Rp 3.000 untuk setiap salinan tambahan. Berapa total biaya keseluruhan untuk pengiriman buku 60 eksemplar?"
   ]
  },
  {
   "cell_type": "code",
   "execution_count": 15,
   "metadata": {},
   "outputs": [
    {
     "name": "stdout",
     "output_type": "stream",
     "text": [
      "3786000.0\n"
     ]
    }
   ],
   "source": [
    "#var initial\n",
    "book_price=100000\n",
    "book_disc=book_price-(book_price*0.4)\n",
    "first_dlvr_oost=9000\n",
    "dlvr_cost=3000\n",
    "dlvr_book=60\n",
    "\n",
    "tot_cost_plus_dlvr=(book_disc*dlvr_book)+first_dlvr_oost+(dlvr_cost*(dlvr_book-1))\n",
    "\n",
    "print(tot_cost_plus_dlvr)"
   ]
  },
  {
   "cell_type": "code",
   "execution_count": null,
   "metadata": {},
   "outputs": [],
   "source": []
  }
 ],
 "metadata": {
  "kernelspec": {
   "display_name": "Python 3",
   "language": "python",
   "name": "python3"
  },
  "language_info": {
   "codemirror_mode": {
    "name": "ipython",
    "version": 3
   },
   "file_extension": ".py",
   "mimetype": "text/x-python",
   "name": "python",
   "nbconvert_exporter": "python",
   "pygments_lexer": "ipython3",
   "version": "3.7.0"
  }
 },
 "nbformat": 4,
 "nbformat_minor": 2
}
